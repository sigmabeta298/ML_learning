{
 "cells": [
  {
   "cell_type": "markdown",
   "metadata": {},
   "source": [
    "## An attempt at forecasting my credit card spends using data from the last 2 years\n",
    "\n",
    "__Author__ Syamanthaka Balakrishnan\n",
    "__Created__ 24th March 2020\n",
    "\n",
    "#### Steps\n",
    "* Read in the data and aggregate on a monthly basis. For now, we ignore the description of the spend.\n",
    "* Plot a basic graph to see a visual trend\n",
    "* Test data for stationarity and seasonality\n",
    "* Split data into train and test, run a model.\n",
    "* Train entire data set and predict on next 6 months"
   ]
  },
  {
   "cell_type": "code",
   "execution_count": 15,
   "metadata": {},
   "outputs": [],
   "source": [
    "import pandas as pd\n",
    "import numpy as np\n",
    "import matplotlib.pyplot as plt\n",
    "from statsmodels.tsa.stattools import adfuller"
   ]
  },
  {
   "cell_type": "code",
   "execution_count": 3,
   "metadata": {},
   "outputs": [
    {
     "data": {
      "text/html": [
       "<div>\n",
       "<style scoped>\n",
       "    .dataframe tbody tr th:only-of-type {\n",
       "        vertical-align: middle;\n",
       "    }\n",
       "\n",
       "    .dataframe tbody tr th {\n",
       "        vertical-align: top;\n",
       "    }\n",
       "\n",
       "    .dataframe thead th {\n",
       "        text-align: right;\n",
       "    }\n",
       "</style>\n",
       "<table border=\"1\" class=\"dataframe\">\n",
       "  <thead>\n",
       "    <tr style=\"text-align: right;\">\n",
       "      <th></th>\n",
       "      <th>Date</th>\n",
       "      <th>Description</th>\n",
       "      <th>Amount Spent (Rs.)</th>\n",
       "    </tr>\n",
       "  </thead>\n",
       "  <tbody>\n",
       "    <tr>\n",
       "      <th>0</th>\n",
       "      <td>2018-02-24</td>\n",
       "      <td>FRESHCO HYPER MARKET BANGALORE IN</td>\n",
       "      <td>1412.0</td>\n",
       "    </tr>\n",
       "    <tr>\n",
       "      <th>1</th>\n",
       "      <td>2018-02-24</td>\n",
       "      <td>THANCO NATURAL ICE CRE BANGALORE IN</td>\n",
       "      <td>348.0</td>\n",
       "    </tr>\n",
       "    <tr>\n",
       "      <th>2</th>\n",
       "      <td>2018-02-24</td>\n",
       "      <td>DAILY FRESH FRUITS AND BANGALORE IN</td>\n",
       "      <td>819.0</td>\n",
       "    </tr>\n",
       "    <tr>\n",
       "      <th>3</th>\n",
       "      <td>2018-03-01</td>\n",
       "      <td>KEYS HOTEL MUMBAI IN</td>\n",
       "      <td>5711.2</td>\n",
       "    </tr>\n",
       "    <tr>\n",
       "      <th>4</th>\n",
       "      <td>2018-03-02</td>\n",
       "      <td>FRESHCO HYPERMARKET BANGALORE IN</td>\n",
       "      <td>1216.0</td>\n",
       "    </tr>\n",
       "  </tbody>\n",
       "</table>\n",
       "</div>"
      ],
      "text/plain": [
       "        Date                          Description  Amount Spent (Rs.)\n",
       "0 2018-02-24    FRESHCO HYPER MARKET BANGALORE IN              1412.0\n",
       "1 2018-02-24  THANCO NATURAL ICE CRE BANGALORE IN               348.0\n",
       "2 2018-02-24  DAILY FRESH FRUITS AND BANGALORE IN               819.0\n",
       "3 2018-03-01                 KEYS HOTEL MUMBAI IN              5711.2\n",
       "4 2018-03-02     FRESHCO HYPERMARKET BANGALORE IN              1216.0"
      ]
     },
     "execution_count": 3,
     "metadata": {},
     "output_type": "execute_result"
    }
   ],
   "source": [
    "df = pd.read_excel(\"sbicard.xlsx\", sheet_name=\"Sheet1\")\n",
    "df.head()"
   ]
  },
  {
   "cell_type": "code",
   "execution_count": 6,
   "metadata": {},
   "outputs": [],
   "source": [
    "## Group by each day of spend that is on record\n",
    "daily_spends = df.groupby('Date').sum()"
   ]
  },
  {
   "cell_type": "code",
   "execution_count": 4,
   "metadata": {},
   "outputs": [],
   "source": [
    "## Using the pandas Grouper - gives monthly spend\n",
    "monthly_spends = df.groupby(pd.Grouper(key='Date', freq='1M')).sum()"
   ]
  },
  {
   "cell_type": "code",
   "execution_count": 27,
   "metadata": {},
   "outputs": [
    {
     "data": {
      "text/html": [
       "<div>\n",
       "<style scoped>\n",
       "    .dataframe tbody tr th:only-of-type {\n",
       "        vertical-align: middle;\n",
       "    }\n",
       "\n",
       "    .dataframe tbody tr th {\n",
       "        vertical-align: top;\n",
       "    }\n",
       "\n",
       "    .dataframe thead th {\n",
       "        text-align: right;\n",
       "    }\n",
       "</style>\n",
       "<table border=\"1\" class=\"dataframe\">\n",
       "  <thead>\n",
       "    <tr style=\"text-align: right;\">\n",
       "      <th></th>\n",
       "      <th>Amount Spent (Rs.)</th>\n",
       "    </tr>\n",
       "    <tr>\n",
       "      <th>Date</th>\n",
       "      <th></th>\n",
       "    </tr>\n",
       "  </thead>\n",
       "  <tbody>\n",
       "    <tr>\n",
       "      <th>2018-02-28</th>\n",
       "      <td>2579.00</td>\n",
       "    </tr>\n",
       "    <tr>\n",
       "      <th>2018-03-31</th>\n",
       "      <td>78993.50</td>\n",
       "    </tr>\n",
       "    <tr>\n",
       "      <th>2018-04-30</th>\n",
       "      <td>57520.03</td>\n",
       "    </tr>\n",
       "    <tr>\n",
       "      <th>2018-05-31</th>\n",
       "      <td>126830.20</td>\n",
       "    </tr>\n",
       "    <tr>\n",
       "      <th>2018-06-30</th>\n",
       "      <td>115362.39</td>\n",
       "    </tr>\n",
       "  </tbody>\n",
       "</table>\n",
       "</div>"
      ],
      "text/plain": [
       "            Amount Spent (Rs.)\n",
       "Date                          \n",
       "2018-02-28             2579.00\n",
       "2018-03-31            78993.50\n",
       "2018-04-30            57520.03\n",
       "2018-05-31           126830.20\n",
       "2018-06-30           115362.39"
      ]
     },
     "execution_count": 27,
     "metadata": {},
     "output_type": "execute_result"
    }
   ],
   "source": [
    "monthly_spends.head()"
   ]
  },
  {
   "cell_type": "code",
   "execution_count": 5,
   "metadata": {},
   "outputs": [
    {
     "data": {
      "text/html": [
       "<div>\n",
       "<style scoped>\n",
       "    .dataframe tbody tr th:only-of-type {\n",
       "        vertical-align: middle;\n",
       "    }\n",
       "\n",
       "    .dataframe tbody tr th {\n",
       "        vertical-align: top;\n",
       "    }\n",
       "\n",
       "    .dataframe thead th {\n",
       "        text-align: right;\n",
       "    }\n",
       "</style>\n",
       "<table border=\"1\" class=\"dataframe\">\n",
       "  <thead>\n",
       "    <tr style=\"text-align: right;\">\n",
       "      <th></th>\n",
       "      <th>Amount Spent (Rs.)</th>\n",
       "    </tr>\n",
       "  </thead>\n",
       "  <tbody>\n",
       "    <tr>\n",
       "      <th>Feb18</th>\n",
       "      <td>2579.00</td>\n",
       "    </tr>\n",
       "    <tr>\n",
       "      <th>Mar18</th>\n",
       "      <td>78993.50</td>\n",
       "    </tr>\n",
       "    <tr>\n",
       "      <th>Apr18</th>\n",
       "      <td>57520.03</td>\n",
       "    </tr>\n",
       "    <tr>\n",
       "      <th>May18</th>\n",
       "      <td>126830.20</td>\n",
       "    </tr>\n",
       "    <tr>\n",
       "      <th>Jun18</th>\n",
       "      <td>115362.39</td>\n",
       "    </tr>\n",
       "  </tbody>\n",
       "</table>\n",
       "</div>"
      ],
      "text/plain": [
       "       Amount Spent (Rs.)\n",
       "Feb18             2579.00\n",
       "Mar18            78993.50\n",
       "Apr18            57520.03\n",
       "May18           126830.20\n",
       "Jun18           115362.39"
      ]
     },
     "execution_count": 5,
     "metadata": {},
     "output_type": "execute_result"
    }
   ],
   "source": [
    "## More readable string format - strftime for converting date time\n",
    "## %b - for month in 3 letter code %y for 2 digit year\n",
    "agg_df = monthly_spends\n",
    "agg_df.index = agg_df.index.strftime('%b%y')\n",
    "agg_df.head()"
   ]
  },
  {
   "cell_type": "code",
   "execution_count": 32,
   "metadata": {},
   "outputs": [
    {
     "data": {
      "text/plain": [
       "[<matplotlib.lines.Line2D at 0x295530ed198>]"
      ]
     },
     "execution_count": 32,
     "metadata": {},
     "output_type": "execute_result"
    },
    {
     "data": {
      "image/png": "[encoded data removed]",
      "text/plain": [
       "<Figure size 1440x576 with 1 Axes>"
      ]
     },
     "metadata": {
      "needs_background": "light"
     },
     "output_type": "display_data"
    }
   ],
   "source": [
    "## Basic pyplot to see the trend visually\n",
    "fig = plt.figure(figsize=(20, 8))\n",
    "ax = fig.add_subplot(111)\n",
    "ax.plot(agg_df)"
   ]
  },
  {
   "cell_type": "markdown",
   "metadata": {},
   "source": [
    "* May 2018 we made a lot of flight bookings and hotel bookings for a vacation post an extended business trip.  \n",
    "* Next peak seen is that in Jun 2019, where there was another travel for which the credit card was swiped. "
   ]
  },
  {
   "cell_type": "code",
   "execution_count": 6,
   "metadata": {},
   "outputs": [
    {
     "data": {
      "text/plain": [
       "array([[<matplotlib.axes._subplots.AxesSubplot object at 0x00000289CCF1BE80>]],\n",
       "      dtype=object)"
      ]
     },
     "execution_count": 6,
     "metadata": {},
     "output_type": "execute_result"
    },
    {
     "data": {
      "image/png": "[encoded data removed]",
      "text/plain": [
       "<Figure size 432x288 with 1 Axes>"
      ]
     },
     "metadata": {
      "needs_background": "light"
     },
     "output_type": "display_data"
    }
   ],
   "source": [
    "## Lets see if the data is normally distributed\n",
    "agg_df.hist()"
   ]
  },
  {
   "cell_type": "code",
   "execution_count": 21,
   "metadata": {},
   "outputs": [
    {
     "name": "stdout",
     "output_type": "stream",
     "text": [
      "mean1=59596.210000, mean2=48001.914615\n",
      "variance1=1259561611.486800, variance2=678547085.476443\n"
     ]
    }
   ],
   "source": [
    "X = agg_df['Amount Spent (Rs.)']\n",
    "split = round(len(X) / 2)\n",
    "X1, X2 = X[0:split], X[split:]\n",
    "mean1, mean2 = X1.mean(), X2.mean()\n",
    "var1, var2 = X1.var(), X2.var()\n",
    "print('mean1=%f, mean2=%f' % (mean1, mean2))\n",
    "print('variance1=%f, variance2=%f' % (var1, var2))"
   ]
  },
  {
   "cell_type": "markdown",
   "metadata": {},
   "source": [
    "The means seem to be in a similar ball park, when the data is split into two groups. But the variances are not only not close, but also ridiculously high. \n",
    "Now this means the following:\n",
    "1. The data is non- stationary or that there is some trend or seasonality that is observed. (Will test this a bit more later)\n",
    "2. A good possibility is that the model may do well, because it gives a lot of attention to the data and won't generalize unknown data. (This is also to be seen later)"
   ]
  },
  {
   "cell_type": "markdown",
   "metadata": {},
   "source": [
    "Now the __Augmented DickyFuller Test__ : Let's begin with the null hypothesis that the data is __NOT__ stationary - ie. there is some time dependent trend. \n",
    "* If the statistic value of the adftest comes out to be a negative value, null hypothesis holds good. Else, reject null hypothesis, meaning it is stationary data.\n",
    "* Also p-value > 0.05 accepts null hypothesis and p-value <= 0.05 rejects null hypothesis"
   ]
  },
  {
   "cell_type": "code",
   "execution_count": 25,
   "metadata": {},
   "outputs": [
    {
     "name": "stdout",
     "output_type": "stream",
     "text": [
      "ADF Statistic: 2.562621\n",
      "p-value: 0.999067\n",
      "Critical Values:\n",
      "\t1%: -3.924\n",
      "\t5%: -3.068\n",
      "\t10%: -2.674\n",
      "Rejecting null hypothesis, Stationary data confirmed\n"
     ]
    }
   ],
   "source": [
    "result = adfuller(X)\n",
    "print('ADF Statistic: %f' % result[0])\n",
    "print('p-value: %f' % result[1])\n",
    "print('Critical Values:')\n",
    "for key, value in result[4].items():\n",
    "    print('\\t%s: %.3f' % (key, value))\n",
    "    \n",
    "if (result[0] > 0) & (result[1] > 0.05):\n",
    "    print(\"Rejecting null hypothesis, Stationary data confirmed\")\n",
    "else:\n",
    "    print(\"Accepting null hypothesis, Non-Stationary data\")"
   ]
  }
 ],
 "metadata": {
  "kernelspec": {
   "display_name": "Python 3",
   "language": "python",
   "name": "python3"
  },
  "language_info": {
   "codemirror_mode": {
    "name": "ipython",
    "version": 3
   },
   "file_extension": ".py",
   "mimetype": "text/x-python",
   "name": "python",
   "nbconvert_exporter": "python",
   "pygments_lexer": "ipython3",
   "version": "3.7.1"
  }
 },
 "nbformat": 4,
 "nbformat_minor": 2
}
